{
 "cells": [
  {
   "cell_type": "code",
   "execution_count": 1,
   "metadata": {},
   "outputs": [],
   "source": [
    "#from pyld import jsonld\n",
    "import json"
   ]
  },
  {
   "cell_type": "code",
   "execution_count": 2,
   "metadata": {},
   "outputs": [],
   "source": [
    "jsonld_input = ''\n",
    "with open('./robot_arm_simulator/lamp_thing_with_defaults.jsonld', 'r') as f:\n",
    "    jsonld_input = json.load(f)"
   ]
  },
  {
   "cell_type": "code",
   "execution_count": 3,
   "metadata": {},
   "outputs": [
    {
     "name": "stdout",
     "output_type": "stream",
     "text": [
      "{'@context': 'https://www.w3.org/2019/wot/td/v1', 'id': 'urn:dev:ops:32473-WoTLamp-1234', 'title': 'MyLampThing', 'securityDefinitions': {'basic_sc': {'scheme': 'basic', 'in': 'header'}}, 'security': ['basic_sc'], 'properties': {'status': {'type': 'string', 'readOnly': False, 'writeOnly': False, 'forms': [{'op': ['readproperty', 'writeproperty'], 'href': 'https://mylamp.example.com/status', 'contentType': 'application/json'}]}}, 'actions': {'toggle': {'safe': False, 'idempotent': False, 'forms': [{'op': 'invokeaction', 'href': 'https://mylamp.example.com/toggle', 'contentType': 'application/json'}]}}, 'events': {'overheating': {'data': {'type': 'string', 'readOnly': False, 'writeOnly': False}, 'forms': [{'op': 'subscribeevent', 'href': 'https://mylamp.example.com/oh', 'contentType': 'application/json', 'subprotocol': 'longpoll'}]}}}\n"
     ]
    }
   ],
   "source": [
    "print(jsonld_input)\n",
    "#print(json.dumps(jsonld.expand(jsonld_input), indent=2))"
   ]
  },
  {
   "cell_type": "code",
   "execution_count": 4,
   "metadata": {},
   "outputs": [],
   "source": [
    "def extract_elements(jsonld_input, key):\n",
    "    return jsonld_input.get(key)\n",
    "\n",
    "def extract_actions(jsonld_input):\n",
    "    return extract_elements(jsonld_input, 'actions')\n",
    "\n",
    "def extract_events(jsonld_input):\n",
    "    return extract_elements(jsonld_input, 'events')\n",
    "\n",
    "def extract_properties(jsonld_input):\n",
    "    return extract_elements(jsonld_input, 'properties')"
   ]
  },
  {
   "cell_type": "code",
   "execution_count": 5,
   "metadata": {},
   "outputs": [],
   "source": [
    "actions = extract_actions(jsonld_input)\n",
    "events = extract_events(jsonld_input)\n",
    "properties = extract_properties(jsonld_input)"
   ]
  },
  {
   "cell_type": "code",
   "execution_count": 6,
   "metadata": {},
   "outputs": [
    {
     "name": "stdout",
     "output_type": "stream",
     "text": [
      "{'toggle': {'safe': False, 'idempotent': False, 'forms': [{'op': 'invokeaction', 'href': 'https://mylamp.example.com/toggle', 'contentType': 'application/json'}]}}\n"
     ]
    }
   ],
   "source": [
    "print(actions)"
   ]
  },
  {
   "cell_type": "code",
   "execution_count": 7,
   "metadata": {},
   "outputs": [],
   "source": [
    "class Http_Form:\n",
    "    def __init__(self, name, jsonld_description, isAction=False):            \n",
    "        print(jsonld_description)\n",
    "        self.name = name\n",
    "        self.endpoint = jsonld_description.get('href', '')\n",
    "        self.content_type = jsonld_description.get('contentType', '')\n",
    "        self.http_methods = []\n",
    "        if 'htv:methodName' in jsonld_description:\n",
    "            self.http_methods.append(jsonld_description.get('htv:methodName'))\n",
    "        elif isAction:\n",
    "            self.http_methods.append('POST') #default for action acc. to w3c\n",
    "        elif 'op' in jsonld_description:\n",
    "            # default for these operations according to w3c standard\n",
    "            ops = jsonld_description.get('op')\n",
    "            if type(ops) is str:\n",
    "                ops = [ops]\n",
    "            for op in ops:\n",
    "                if op in {'readproperty', 'readallproperties', 'readmultipleproperties'}:\n",
    "                    self.http_methods.append('GET')\n",
    "                elif op in {'writeproperty', 'writeallproperties', 'writemultipleproperties'}:\n",
    "                    self.http_methods.append('PUT')\n",
    "                elif op == 'invokeaction':\n",
    "                    self.http_methods.append('POST')\n",
    "                elif op in {'subscribeevent', 'unsubscribeevent'}:\n",
    "                    print(jsonld_description)\n",
    "                    if 'subprotocol' in jsonld_description:\n",
    "                        self.http_methods.append(jsonld_description.get('subprotocol'))\n",
    "                    else:\n",
    "                        print(\"ERROR: httpmethod of subscribeevent and unsubscribeevent not clearly defined\")\n",
    "                else:\n",
    "                    print(\"ERROR: no http method assigned for op \" + op)\n",
    "                        \n",
    "    def __str__(self):\n",
    "        res = \"Http_Form '\" + self.name + \"'\\nendpoint: \" + self.endpoint + \"\\ncontent_type: \" + self.content_type + \"\\nhttp_methods: \"\n",
    "        for h in self.http_methods:\n",
    "            res += h + ', '\n",
    "        return  res\n",
    "    "
   ]
  },
  {
   "cell_type": "code",
   "execution_count": 8,
   "metadata": {},
   "outputs": [
    {
     "name": "stdout",
     "output_type": "stream",
     "text": [
      "{'op': 'invokeaction', 'href': 'https://mylamp.example.com/toggle', 'contentType': 'application/json'}\n",
      "{'op': ['readproperty', 'writeproperty'], 'href': 'https://mylamp.example.com/status', 'contentType': 'application/json'}\n",
      "{'op': 'subscribeevent', 'href': 'https://mylamp.example.com/oh', 'contentType': 'application/json', 'subprotocol': 'longpoll'}\n",
      "{'op': 'subscribeevent', 'href': 'https://mylamp.example.com/oh', 'contentType': 'application/json', 'subprotocol': 'longpoll'}\n",
      "action Http_Form 'toggle'\n",
      "endpoint: https://mylamp.example.com/toggle\n",
      "content_type: application/json\n",
      "http_methods: POST, \n",
      "property Http_Form 'status'\n",
      "endpoint: https://mylamp.example.com/status\n",
      "content_type: application/json\n",
      "http_methods: GET, PUT, \n",
      "event Http_Form 'overheating'\n",
      "endpoint: https://mylamp.example.com/oh\n",
      "content_type: application/json\n",
      "http_methods: longpoll, \n"
     ]
    }
   ],
   "source": [
    "http_forms = []\n",
    "for action_name, a in actions.items():\n",
    "    for form in a.get('forms'):\n",
    "        http_forms.append(('action', Http_Form(action_name, form, isAction=True)))\n",
    "\n",
    "for property_name, p in properties.items():\n",
    "    for form in p.get('forms'):\n",
    "        http_forms.append(('property', Http_Form(property_name, form)))\n",
    "\n",
    "for event_name, e in events.items():\n",
    "    for form in e.get('forms'):\n",
    "        http_forms.append(('event', Http_Form(event_name, form)))\n",
    "for name, f in http_forms:\n",
    "    print(name + \" \" + str(f))"
   ]
  },
  {
   "cell_type": "code",
   "execution_count": 9,
   "metadata": {},
   "outputs": [],
   "source": [
    "ui_outputs = {'general_data_output',\n",
    "               'ordered_domain_output',\n",
    "               'fixed_range_ordered_domain_output'\n",
    "             }\n",
    "ui_inputs = {'stateless_trigger_button',\n",
    "               'stateless_forward_backward_buttons',\n",
    "               'general_data_input',\n",
    "               'ordered_domain_input',\n",
    "               'ordered_domain_with_neutral_value_input',\n",
    "               'operating_mode_input',\n",
    "               'ordered_domain_fixed_range_input',\n",
    "               'boolean_switch_input',\n",
    "               'set_position_input',\n",
    "               'move_input'\n",
    "            }"
   ]
  },
  {
   "cell_type": "code",
   "execution_count": 10,
   "metadata": {},
   "outputs": [],
   "source": [
    "# TODO: parse data types and together with Http_Form data, determine corresponding UI element\n",
    "# property: type; if type==object, then it's nested!\n",
    "# action: (input & output)->type; if type==object, then it's nested!\n",
    "# event: data->type (this is the type that is being received)"
   ]
  },
  {
   "cell_type": "code",
   "execution_count": 35,
   "metadata": {},
   "outputs": [],
   "source": [
    "def parse_uri_variables(jsonld):\n",
    "    '''\n",
    "        part of InteractionAffordance, same level as forms and connected to forms (no uriVariables without forms)\n",
    "        \n",
    "        e.g.\n",
    "        \n",
    "        \"uriVariables\": {\n",
    "                \"p\" : { \"type\": \"integer\", \"minimum\": 0, \"maximum\": 16, \"@type\": \"eg:SomeKindOfAngle\" },\n",
    "                \"d\" : { \"type\": \"integer\", \"minimum\": 0, \"maximum\": 1, \"@type\": \"eg:Direction\" }\n",
    "        },\n",
    "        \"forms\": [{\n",
    "          \"href\" : \"http://192.168.1.25/left{?p,d}\",\n",
    "          \"htv:methodName\": \"GET\"\n",
    "        }]\n",
    "    '''\n",
    "    return None\n",
    "    # not essential for now. TODO: implement later\n",
    "    \n",
    "def extract_data_description(jsonld):\n",
    "    type_ = jsonld.get(\"type\")\n",
    "    min_ = jsonld.get(\"minimum\")\n",
    "    max_ = jsonld.get(\"maximum\")\n",
    "    ordered = False\n",
    "    if type_ in {\"integer\", \"number\"}:\n",
    "        # TODO: is boolean also ordered?\n",
    "        ordered = True\n",
    "    return {\"type\": type_, \"ordered\": ordered, \"min\": min_, \"max\": max_}\n",
    "\n",
    "    \n",
    "    \n",
    "def parse_array_type(jsonld):\n",
    "    '''\n",
    "    In general, arrays can be displayed and entered in a general data field by comma separated values.\n",
    "    If the number of items is fixed and the types are known, a separate input field for each element could be displayed.\n",
    "    The downside is, that the designators for each element is unknown, i.e. for RGB value in the example below it is clear\n",
    "    if there is a single input field with description RGB value, 3 items, comma-separated. But it might be less clear\n",
    "    if there are 3 input fields with only one title saying RGB values. Hence I would rather create a descriptive title\n",
    "    and a single input field.\n",
    "    \n",
    "        \"type\": \"array\",\n",
    "        \"items\" : {\n",
    "            \"type\" : \"number\",\n",
    "            \"minimum\": 0,\n",
    "            \"maximum\": 255\n",
    "        },\n",
    "        \"minItems\": 3,\n",
    "        \"maxItems\": 3\n",
    "    '''\n",
    "    data_description = extract_data_description(jsonld.get(\"items\"))\n",
    "    minItems = jsonld.get(\"minItems\")\n",
    "    maxItems = jsonld.get(\"maxItems\")\n",
    "    if minItems and maxItems and minItems == maxItems:\n",
    "        # a fixed number of elements\n",
    "        data_description[\"num_elements\"] = minItems\n",
    "    elif minItems and maxItems:\n",
    "        data_description[\"num_elements\"] = \"min{}_max{}\".format(minItems, maxItems)\n",
    "        \n",
    "        \n",
    "\n",
    "\n",
    "# for both integer and number\n",
    "def parse_number_type(jsonld):\n",
    "    '''\n",
    "        \"type\": \"number\",\n",
    "        \"minimum\": 0.0,\n",
    "        \"maximum\": 100.0\n",
    "    '''\n",
    "    return None\n",
    "\n",
    "def parse_object_type(jsonld):\n",
    "    # recursively parse types\n",
    "    '''\n",
    "            \"type\": \"object\",\n",
    "            \"properties\": {\n",
    "                \"from\": {\n",
    "                    \"type\": \"integer\",\n",
    "                    \"minimum\": 0,\n",
    "                    \"maximum\": 100\n",
    "                },\n",
    "                \"to\": {\n",
    "                    \"type\": \"integer\",\n",
    "                    \"minimum\": 0,\n",
    "                    \"maximum\": 100\n",
    "                },\n",
    "                \"duration\": {\"type\": \"number\"}\n",
    "            },\n",
    "            \"required\": [\"to\",\"duration\"],\n",
    "    '''\n",
    "    \n",
    "def parse_type(jsonld):\n",
    "    t = jsonld.get('type')\n",
    "    # TODO: also check for enum\n",
    "    return None\n",
    "    \n",
    "def parse_actions(actions, http_forms):\n",
    "    '''\n",
    "            Heuristics for actions:\n",
    "            - no input -> simple trigger\n",
    "            - input -> - single input -> single UI_input_element (no trigger button, interaction with UI_input_element automatically triggers action, except for general (string) input)\n",
    "                       - multiple inputs -> for each input UI_input_element and trigger button to trigger action\n",
    "            - output -> sensor outputs; or could it also render back into a stateful actuator? \n",
    "                                        RE: might make sense for stateful actuators, i.e. request to change state\n",
    "                                        to 10 and actuator does not change. Then input trigger-wheel will turn\n",
    "                                        back to actual value. In the general case the output seems to be more something\n",
    "                                        like a feedback. i.e. \"success\" or \"error\"\n",
    "        \"input\": {\n",
    "            \"type\": \"object\",\n",
    "            \"properties\": {\n",
    "                \"from\": {\n",
    "                    \"type\": \"integer\",\n",
    "                    \"minimum\": 0,\n",
    "                    \"maximum\": 100\n",
    "                },\n",
    "                \"to\": {\n",
    "                    \"type\": \"integer\",\n",
    "                    \"minimum\": 0,\n",
    "                    \"maximum\": 100\n",
    "                },\n",
    "                \"duration\": {\"type\": \"number\"}\n",
    "            },\n",
    "            \"required\": [\"to\",\"duration\"],\n",
    "        },\n",
    "        \"output\": {\"type\": \"string\"},\n",
    "    '''\n",
    "    for action_name, a in actions.items():\n",
    "        input = []\n",
    "        output = []\n",
    "        \n",
    "        for form in a.get('forms'):\n",
    "            http_forms.append(('action', Http_Form(action_name, form, isAction=True)))\n",
    "\n",
    "\n",
    "def parse_properties(properties, http_forms):\n",
    "    '''\n",
    "        According to w3c standard: \"Property instances are also instances of the class DataSchema. \n",
    "        Therefore, it can contain the type, unit, readOnly and writeOnly members, among others.\"\n",
    "    '''\n",
    "    for property_name, p in properties.items():\n",
    "        for form in p.get('forms'):\n",
    "            http_forms.append(('property', Http_Form(property_name, form)))\n",
    "        property_type = p.get('type')\n",
    "        if property_type in {'array', 'string', 'number', 'integer', 'boolean'}:\n",
    "            # TODO: simple type, infer UI element for each form?\n",
    "            print(\"property of simple type\")\n",
    "        elif property_type ==  'object':\n",
    "            # TODO: recursive type checking\n",
    "            print(\"property of type object, recursively parsing...\")\n",
    "        elif property_type == 'null':\n",
    "            # TODO: define what happens here\n",
    "            print(\"property of type null...\")\n",
    "            \n",
    "def parse_events(events, http_forms):\n",
    "    '''\n",
    "        subscription (optional): Defines data that needs to be passed upon subscription.\n",
    "        data (optional): Defines the data schema of the Event instance messages pushed by the Thing.\n",
    "        cancellation (optional): Defines any data that needs to be passed to cancel a subscription\n",
    "        \n",
    "        e.g.\n",
    "        \n",
    "        \"subscription\": {\n",
    "            \"type\": \"object\",\n",
    "            \"properties\": {\n",
    "                \"callbackURL\": {\n",
    "                    \"type\": \"string\",\n",
    "                    \"format\": \"uri\",\n",
    "                    \"description\": \"Callback URL provided by subscriber for Webhook notifications.\",\n",
    "                    \"writeOnly\": true\n",
    "                },\n",
    "                \"subscriptionID\": {\n",
    "                    \"type\": \"string\",\n",
    "                    \"description\": \"Unique subscription ID for cancellation provided by WebhookThing.\",\n",
    "                    \"readOnly\": true\n",
    "                }\n",
    "            }\n",
    "        },\n",
    "        \"data\": {\n",
    "            \"type\": \"number\",\n",
    "            \"description\": \"Latest temperature value that is sent to the callback URL.\"\n",
    "        },\n",
    "        \"cancellation\": {\n",
    "            \"type\": \"object\",\n",
    "            \"properties\": {\n",
    "                \"subscriptionID\": {\n",
    "                    \"type\": \"integer\",\n",
    "                    \"description\": \"Required subscription ID to cancel subscription.\",\n",
    "                    \"writeOnly\": true\n",
    "                }\n",
    "            }\n",
    "        },\n",
    "    '''\n",
    "    for event_name, e in events.items():\n",
    "        for form in e.get('forms'):\n",
    "            http_forms.append(('event', Http_Form(event_name, form)))\n",
    "        event_output_type = e.get('data').get('type')\n",
    "        if property_type in {'array', 'string', 'number', 'integer', 'boolean'}:\n",
    "            # TODO: simple type, infer UI element for each form?\n",
    "            print(\"simple type\")\n",
    "            pass\n",
    "        elif property_type ==  'object':\n",
    "            # TODO: recursive type checking\n",
    "            print(\"object type\")\n",
    "        elif prperty_type == 'null':\n",
    "            # TODO: define what happens here\n",
    "            print(\"null type\")\n",
    "        "
   ]
  },
  {
   "cell_type": "code",
   "execution_count": 36,
   "metadata": {},
   "outputs": [],
   "source": []
  },
  {
   "cell_type": "code",
   "execution_count": 37,
   "metadata": {},
   "outputs": [
    {
     "name": "stdout",
     "output_type": "stream",
     "text": [
      "{'hi': 3, 'there': 4, 'bla': 7}\n"
     ]
    }
   ],
   "source": []
  },
  {
   "cell_type": "code",
   "execution_count": 38,
   "metadata": {},
   "outputs": [
    {
     "data": {
      "text/plain": [
       "{'hi': 3, 'there': 4, 'bla': 7}"
      ]
     },
     "execution_count": 38,
     "metadata": {},
     "output_type": "execute_result"
    }
   ],
   "source": []
  },
  {
   "cell_type": "code",
   "execution_count": null,
   "metadata": {},
   "outputs": [],
   "source": []
  },
  {
   "cell_type": "code",
   "execution_count": null,
   "metadata": {},
   "outputs": [],
   "source": []
  },
  {
   "cell_type": "code",
   "execution_count": null,
   "metadata": {},
   "outputs": [],
   "source": []
  },
  {
   "cell_type": "code",
   "execution_count": null,
   "metadata": {},
   "outputs": [],
   "source": []
  },
  {
   "cell_type": "code",
   "execution_count": null,
   "metadata": {},
   "outputs": [],
   "source": []
  }
 ],
 "metadata": {
  "kernelspec": {
   "display_name": "Python 3",
   "language": "python",
   "name": "python3"
  },
  "language_info": {
   "codemirror_mode": {
    "name": "ipython",
    "version": 3
   },
   "file_extension": ".py",
   "mimetype": "text/x-python",
   "name": "python",
   "nbconvert_exporter": "python",
   "pygments_lexer": "ipython3",
   "version": "3.7.4"
  }
 },
 "nbformat": 4,
 "nbformat_minor": 4
}
